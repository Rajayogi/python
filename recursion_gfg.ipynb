{
  "nbformat": 4,
  "nbformat_minor": 0,
  "metadata": {
    "colab": {
      "name": "recursion_gfg.ipynb",
      "version": "0.3.2",
      "provenance": [],
      "include_colab_link": true
    },
    "kernelspec": {
      "name": "python3",
      "display_name": "Python 3"
    }
  },
  "cells": [
    {
      "cell_type": "markdown",
      "metadata": {
        "id": "view-in-github",
        "colab_type": "text"
      },
      "source": [
        "<a href=\"https://colab.research.google.com/github/Rajayogi/python/blob/master/recursion_gfg.ipynb\" target=\"_parent\"><img src=\"https://colab.research.google.com/assets/colab-badge.svg\" alt=\"Open In Colab\"/></a>"
      ]
    },
    {
      "cell_type": "code",
      "metadata": {
        "id": "leXbR4kaOneH",
        "colab_type": "code",
        "colab": {
          "base_uri": "https://localhost:8080/",
          "height": 34
        },
        "outputId": "e4bd17d4-2cb4-4022-9ef1-6702f4f80553"
      },
      "source": [
        "#print 1 to n withhout using loops\n",
        "\n",
        "def f(N):\n",
        "  if N == 0:\n",
        "    return\n",
        "  f(N -1)\n",
        "  print(N, end=\" \")\n",
        "\n",
        "f(5)"
      ],
      "execution_count": 10,
      "outputs": [
        {
          "output_type": "stream",
          "text": [
            "1 2 3 4 5 "
          ],
          "name": "stdout"
        }
      ]
    },
    {
      "cell_type": "code",
      "metadata": {
        "id": "Ij1T3NDcX2S0",
        "colab_type": "code",
        "colab": {
          "base_uri": "https://localhost:8080/",
          "height": 34
        },
        "outputId": "16a15bba-9717-4e2e-e735-78811b08df96"
      },
      "source": [
        "#sum of digits in a number\n",
        "def sumOfDigits(n):\n",
        "    if n<10:\n",
        "        return n\n",
        "    else:\n",
        "        return n % 10 + sumOfDigits(int(n/10))\n",
        "\n",
        "sumOfDigits(9999)\n"
      ],
      "execution_count": 13,
      "outputs": [
        {
          "output_type": "execute_result",
          "data": {
            "text/plain": [
              "36"
            ]
          },
          "metadata": {
            "tags": []
          },
          "execution_count": 13
        }
      ]
    },
    {
      "cell_type": "code",
      "metadata": {
        "id": "8YFTSuajXiGc",
        "colab_type": "code",
        "colab": {
          "base_uri": "https://localhost:8080/",
          "height": 34
        },
        "outputId": "77fc0b82-7c6d-4e35-b7e0-fb671a59aa24"
      },
      "source": [
        "#Count Total Digits in a Number\n",
        "\n",
        "def countOfDigits(n):\n",
        "    if n<10:\n",
        "        return 1\n",
        "    else:\n",
        "        return 1 + countOfDigits(int(n/10))\n",
        "\n",
        "countOfDigits(9999)"
      ],
      "execution_count": 11,
      "outputs": [
        {
          "output_type": "execute_result",
          "data": {
            "text/plain": [
              "4"
            ]
          },
          "metadata": {
            "tags": []
          },
          "execution_count": 11
        }
      ]
    },
    {
      "cell_type": "code",
      "metadata": {
        "id": "GytjS7upafYX",
        "colab_type": "code",
        "colab": {
          "base_uri": "https://localhost:8080/",
          "height": 34
        },
        "outputId": "0de92a8d-c93c-4356-cd99-42591bf09fd8"
      },
      "source": [
        "#Digital root\n",
        "'''You are given a number n. You need to find the digital root of n.\n",
        "DigitalRoot of a number is the recursive sum of its digits until we get a single digit number.\n",
        "Eg.DigitalRoot(191)=1+9+1=>11=>1+1=>2'''\n",
        "\n",
        "def sumOfDigits(n):\n",
        "    if n<10:\n",
        "        return n\n",
        "    else:\n",
        "        return n % 10 + sumOfDigits(int(n/10))\n",
        "\n",
        "def digitalRoot(n):\n",
        "    res = sumOfDigits(n)\n",
        "    if res < 10:\n",
        "        return res\n",
        "    return digitalRoot(res)\n",
        "\n",
        "digitalRoot(9999)"
      ],
      "execution_count": 26,
      "outputs": [
        {
          "output_type": "execute_result",
          "data": {
            "text/plain": [
              "9"
            ]
          },
          "metadata": {
            "tags": []
          },
          "execution_count": 26
        }
      ]
    },
    {
      "cell_type": "code",
      "metadata": {
        "id": "JB9JD3FPc-Xp",
        "colab_type": "code",
        "colab": {
          "base_uri": "https://localhost:8080/",
          "height": 34
        },
        "outputId": "5b131c7e-ed7e-42a4-fa00-fd0bfaadacc7"
      },
      "source": [
        "#Fibonacci using recursion\n",
        "def fibonacci(n):\n",
        "    if n == 0:\n",
        "        return 0\n",
        "    elif n<2:\n",
        "        return 1\n",
        "    else:\n",
        "        return fibonacci(n - 1) + fibonacci(n - 2)\n",
        "\n",
        "fibonacci(20)"
      ],
      "execution_count": 27,
      "outputs": [
        {
          "output_type": "execute_result",
          "data": {
            "text/plain": [
              "6765"
            ]
          },
          "metadata": {
            "tags": []
          },
          "execution_count": 27
        }
      ]
    },
    {
      "cell_type": "markdown",
      "metadata": {
        "id": "6e8nwsxnSx-a",
        "colab_type": "text"
      },
      "source": [
        "Given a keypad as shown in diagram, and an N digit number. List all words which are possible by pressing these numbers.\n",
        "![image.png](data:image/png;base64,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)\n",
        "Input Format:\n",
        "The first line of input contains an integer T denoting the number of test cases. T testcases follow. Each testcase contains two lines of input. The first line of each test case is N, N is the number of digits. The second line of each test case contains D[i], N number of digits.\n",
        "\n",
        "Output Format:\n",
        "Print all possible words from phone digits with single space."
      ]
    },
    {
      "cell_type": "code",
      "metadata": {
        "id": "MkyMNJsS_wNt",
        "colab_type": "code",
        "colab": {
          "base_uri": "https://localhost:8080/",
          "height": 34
        },
        "outputId": "76584621-fb96-46ec-fafc-d0db623f98fb"
      },
      "source": [
        "#Possible Words From Phone Digits\n",
        "\n",
        "def possibleWords(a,N,count = 0, curr = \"\"):\n",
        "    l = [\" \",\" \",\"abc\",\"def\",\"ghi\",\"jkl\",\"mno\",\"pqrs\",\"tuv\",\"wxyz\"]\n",
        "    if count == N:\n",
        "        print(curr, end = \" \")\n",
        "    else:\n",
        "        for i in range(0, len(l[a[count]]),):\n",
        "            possibleWords(a,N,count+1,curr + l[a[count]][i])\n",
        "\n",
        "N = 3\n",
        "a = [2, 3, 4]\n",
        "possibleWords(a,N)"
      ],
      "execution_count": 4,
      "outputs": [
        {
          "output_type": "stream",
          "text": [
            "adg adh adi aeg aeh aei afg afh afi bdg bdh bdi beg beh bei bfg bfh bfi cdg cdh cdi ceg ceh cei cfg cfh cfi "
          ],
          "name": "stdout"
        }
      ]
    }
  ]
}