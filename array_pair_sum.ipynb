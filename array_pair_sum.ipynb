{
  "nbformat": 4,
  "nbformat_minor": 0,
  "metadata": {
    "colab": {
      "name": "array pair sum.ipynb",
      "version": "0.3.2",
      "provenance": [],
      "collapsed_sections": [],
      "include_colab_link": true
    },
    "kernelspec": {
      "name": "python3",
      "display_name": "Python 3"
    }
  },
  "cells": [
    {
      "cell_type": "markdown",
      "metadata": {
        "id": "view-in-github",
        "colab_type": "text"
      },
      "source": [
        "<a href=\"https://colab.research.google.com/github/Rajayogi/python/blob/master/array_pair_sum.ipynb\" target=\"_parent\"><img src=\"https://colab.research.google.com/assets/colab-badge.svg\" alt=\"Open In Colab\"/></a>"
      ]
    },
    {
      "cell_type": "code",
      "metadata": {
        "id": "uv1dCfq46M0K",
        "colab_type": "code",
        "outputId": "7f6db011-4194-4fe2-f024-f46488e3b2d5",
        "colab": {
          "base_uri": "https://localhost:8080/",
          "height": 67
        }
      },
      "source": [
        "def arr_pair_sum(arr,k):\n",
        "  if len(arr) < 2:\n",
        "    return\n",
        "  \n",
        "  seen = []\n",
        "  output = []\n",
        "  \n",
        "  for n in arr:\n",
        "    remaining = k - n\n",
        "    \n",
        "    if remaining not in seen:\n",
        "      seen.append(n)\n",
        "      \n",
        "    else:\n",
        "      output.append((n,remaining))\n",
        "        \n",
        "  print(\"\\n\".join(map(str,output)))\n",
        "  \n",
        "arr = [1,2,2,3]\n",
        "k = 4\n",
        "arr_pair_sum(arr,k)"
      ],
      "execution_count": 49,
      "outputs": [
        {
          "output_type": "stream",
          "text": [
            "[(2, 2), (1, 3)]\n",
            "(2, 2)\n",
            "(1, 3)\n"
          ],
          "name": "stdout"
        }
      ]
    }
  ]
}
