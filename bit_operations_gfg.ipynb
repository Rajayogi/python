{
  "nbformat": 4,
  "nbformat_minor": 0,
  "metadata": {
    "colab": {
      "name": "bit operations gfg.ipynb",
      "version": "0.3.2",
      "provenance": [],
      "collapsed_sections": [],
      "include_colab_link": true
    },
    "kernelspec": {
      "name": "python3",
      "display_name": "Python 3"
    }
  },
  "cells": [
    {
      "cell_type": "markdown",
      "metadata": {
        "id": "view-in-github",
        "colab_type": "text"
      },
      "source": [
        "<a href=\"https://colab.research.google.com/github/Rajayogi/python/blob/master/bit_operations_gfg.ipynb\" target=\"_parent\"><img src=\"https://colab.research.google.com/assets/colab-badge.svg\" alt=\"Open In Colab\"/></a>"
      ]
    },
    {
      "cell_type": "code",
      "metadata": {
        "id": "0D_xIhgZswTo",
        "colab_type": "code",
        "colab": {
          "base_uri": "https://localhost:8080/",
          "height": 34
        },
        "outputId": "25a2a3d7-81e1-4b72-a092-f210229b5ec4"
      },
      "source": [
        "#Find first set bit\n",
        "\n",
        "def getFirstSetBit(n):\n",
        "    if n == 0:\n",
        "        return 0\n",
        "    i = 0\n",
        "    while(True):\n",
        "        if((n & (1<<i)) > 0):\n",
        "            return i + 1\n",
        "        i += 1\n",
        "\n",
        "res = getFirstSetBit(40)\n",
        "print(res)"
      ],
      "execution_count": 35,
      "outputs": [
        {
          "output_type": "stream",
          "text": [
            "4\n"
          ],
          "name": "stdout"
        }
      ]
    },
    {
      "cell_type": "code",
      "metadata": {
        "id": "uOpfAQXT1FxZ",
        "colab_type": "code",
        "colab": {
          "base_uri": "https://localhost:8080/",
          "height": 101
        },
        "outputId": "ad9bf78d-d3ae-4305-d137-357531f74394"
      },
      "source": [
        "#Rightmost different bit\n",
        "\n",
        "def posOfRightMostDiffBit(m,n):\n",
        "    i = 0\n",
        "    while(True):\n",
        "        if( (m & (1<<i)) != (n & (1<<i)) ):\n",
        "            return i + 1\n",
        "        i += 1\n",
        "\n",
        "res = posOfRightMostDiffBit(52,4)\n",
        "print(res)"
      ],
      "execution_count": 39,
      "outputs": [
        {
          "output_type": "stream",
          "text": [
            "0 0 0\n",
            "1 0 0\n",
            "2 4 4\n",
            "3 4 4\n",
            "5\n"
          ],
          "name": "stdout"
        }
      ]
    },
    {
      "cell_type": "code",
      "metadata": {
        "id": "GDHm46BO3__z",
        "colab_type": "code",
        "colab": {
          "base_uri": "https://localhost:8080/",
          "height": 34
        },
        "outputId": "35d94db6-7b2d-43dc-d0a8-125d04b18ffd"
      },
      "source": [
        "#Check whether K-th bit is set or not\n",
        "\n",
        "def checkKthBit(n,k):\n",
        "        if((n & (1<<k)) == 0):\n",
        "            return \"No\"\n",
        "        else:\n",
        "            return \"Yes\"\n",
        "\n",
        "res = checkKthBit(4,2)\n",
        "print(res)"
      ],
      "execution_count": 43,
      "outputs": [
        {
          "output_type": "stream",
          "text": [
            "Yes\n"
          ],
          "name": "stdout"
        }
      ]
    },
    {
      "cell_type": "code",
      "metadata": {
        "id": "KCi29USE29xH",
        "colab_type": "code",
        "colab": {
          "base_uri": "https://localhost:8080/",
          "height": 34
        },
        "outputId": "1954e208-a6bd-40f5-909d-28d19c6bcca1"
      },
      "source": [
        "#count of set bits in n\n",
        "def countofsetbits(n):\n",
        "  count = 0\n",
        "  while n > 0:\n",
        "    n = (n & n - 1)\n",
        "    count += 1\n",
        "  return count\n",
        "\n",
        "res = countofsetbits(1)\n",
        "print(res)"
      ],
      "execution_count": 51,
      "outputs": [
        {
          "output_type": "stream",
          "text": [
            "1\n"
          ],
          "name": "stdout"
        }
      ]
    },
    {
      "cell_type": "code",
      "metadata": {
        "id": "XdRHbppP-_It",
        "colab_type": "code",
        "colab": {
          "base_uri": "https://localhost:8080/",
          "height": 34
        },
        "outputId": "7814b6a8-1ce0-4ad2-df99-e691900ca711"
      },
      "source": [
        "#sum of Count total set bits till n\n",
        "def sumofcountSetBits(n):\n",
        "    res = 0\n",
        "    for i in range(n + 1):\n",
        "        count = 0\n",
        "        while i > 0:\n",
        "            i = (i & i - 1)\n",
        "            count += 1\n",
        "        res += count\n",
        "    return res\n",
        "  \n",
        "res = sumofcountSetBits(4)\n",
        "print(res)"
      ],
      "execution_count": 54,
      "outputs": [
        {
          "output_type": "stream",
          "text": [
            "5\n"
          ],
          "name": "stdout"
        }
      ]
    },
    {
      "cell_type": "code",
      "metadata": {
        "id": "yXNEh7BYABGN",
        "colab_type": "code",
        "colab": {
          "base_uri": "https://localhost:8080/",
          "height": 34
        },
        "outputId": "9a14e828-fa6d-4db4-934a-258e7500dcd2"
      },
      "source": [
        "#You are given two numbers A and B. Write a program to count number of bits needed to be flipped to convert A to B.\n",
        "\n",
        "def countBitsFlip(a,b):\n",
        "    n = a^b\n",
        "    count = 0\n",
        "    while n > 0:\n",
        "        n = n & n-1\n",
        "        count += 1\n",
        "    return count\n",
        "\n",
        "res = countBitsFlip(10,20)\n",
        "print(res)"
      ],
      "execution_count": 57,
      "outputs": [
        {
          "output_type": "stream",
          "text": [
            "4\n"
          ],
          "name": "stdout"
        }
      ]
    },
    {
      "cell_type": "code",
      "metadata": {
        "id": "-PDMHxgCIie1",
        "colab_type": "code",
        "colab": {
          "base_uri": "https://localhost:8080/",
          "height": 34
        },
        "outputId": "195d4217-afe5-4270-f233-24ed3291c95c"
      },
      "source": [
        "#Number is sparse or not\n",
        "#Given a number N.  The task is to check whether it is sparse or not. A number is said to be a sparse number if no two or more consecutive bits are set  in the binary representation.\n",
        "def isSparse(n):\n",
        "    if ((n & n<<1)):\n",
        "        return 0\n",
        "    return 1\n",
        "\n",
        "res = isSparse(12)\n",
        "if res == 1:\n",
        "  print(\"Not sparse\")\n",
        "else:\n",
        "  print(\"sparse\")"
      ],
      "execution_count": 70,
      "outputs": [
        {
          "output_type": "stream",
          "text": [
            "sparse\n"
          ],
          "name": "stdout"
        }
      ]
    },
    {
      "cell_type": "code",
      "metadata": {
        "id": "uSGozxvp1rxh",
        "colab_type": "code",
        "colab": {
          "base_uri": "https://localhost:8080/",
          "height": 34
        },
        "outputId": "30f457b1-def9-4223-aa5e-8ab901dc5f5d"
      },
      "source": [
        "#Longest Consecutive 1's\n",
        "#Given a number N. The task is to find the length of the longest consecutive 1s in its binary representation.\n",
        "def maxConsecutiveOnes(n):\n",
        "    i = 0\n",
        "    while(n != 0):\n",
        "        n = (n & (n<<1))\n",
        "        i += 1\n",
        "    return i\n",
        "\n",
        "res = maxConsecutiveOnes(14)\n",
        "print(res)"
      ],
      "execution_count": 2,
      "outputs": [
        {
          "output_type": "stream",
          "text": [
            "3\n"
          ],
          "name": "stdout"
        }
      ]
    },
    {
      "cell_type": "code",
      "metadata": {
        "id": "ZZk-uFUs6-pJ",
        "colab_type": "code",
        "colab": {
          "base_uri": "https://localhost:8080/",
          "height": 34
        },
        "outputId": "e4b1378c-13b2-4c44-9eab-d2272f2f382a"
      },
      "source": [
        "#You are given a decimal number N. You need to find the gray code of the number n and conver it into decimal.\n",
        "\n",
        "def greyConverter(n):\n",
        "    q=(n>>1)\n",
        "    \n",
        "    return n^q\n",
        "    \n",
        "\n",
        "greyConverter(5)"
      ],
      "execution_count": 14,
      "outputs": [
        {
          "output_type": "execute_result",
          "data": {
            "text/plain": [
              "7"
            ]
          },
          "metadata": {
            "tags": []
          },
          "execution_count": 14
        }
      ]
    },
    {
      "cell_type": "code",
      "metadata": {
        "id": "1bfDVMv_BV1A",
        "colab_type": "code",
        "colab": {
          "base_uri": "https://localhost:8080/",
          "height": 34
        },
        "outputId": "883339cb-087e-4dff-e184-9f7c3816c873"
      },
      "source": [
        "def grayToBinary(n):\n",
        "    res = 0;\n",
        "    while(n>0):\n",
        "        res = res^n;\n",
        "        n = n>>1;\n",
        "    return res\n",
        "\n",
        "grayToBinary(7)"
      ],
      "execution_count": 15,
      "outputs": [
        {
          "output_type": "execute_result",
          "data": {
            "text/plain": [
              "5"
            ]
          },
          "metadata": {
            "tags": []
          },
          "execution_count": 15
        }
      ]
    },
    {
      "cell_type": "code",
      "metadata": {
        "id": "oB_MO4wNCRl-",
        "colab_type": "code",
        "colab": {
          "base_uri": "https://localhost:8080/",
          "height": 34
        },
        "outputId": "6c25f5b7-36fb-49dd-cfdf-3900aeeadf26"
      },
      "source": [
        "#Given a positive integer N. The task is to check if N is a power of 2. More formally, check if N can be expressed as 2x for some x.\n",
        "def isPowerofTwo(n):\n",
        "    if n == 0:\n",
        "        print(\"NO\")\n",
        "    elif (n & (n - 1)) == 0:\n",
        "        print(\"YES\") \n",
        "    else:\n",
        "        print(\"NO\")\n",
        "\n",
        "isPowerofTwo(8)"
      ],
      "execution_count": 16,
      "outputs": [
        {
          "output_type": "stream",
          "text": [
            "YES\n"
          ],
          "name": "stdout"
        }
      ]
    },
    {
      "cell_type": "code",
      "metadata": {
        "id": "t0M-1QWXCobR",
        "colab_type": "code",
        "colab": {}
      },
      "source": [
        ""
      ],
      "execution_count": 0,
      "outputs": []
    }
  ]
}