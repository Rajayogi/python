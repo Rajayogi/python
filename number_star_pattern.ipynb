{
  "nbformat": 4,
  "nbformat_minor": 0,
  "metadata": {
    "colab": {
      "name": "number_star pattern.ipynb",
      "version": "0.3.2",
      "provenance": [],
      "include_colab_link": true
    },
    "kernelspec": {
      "name": "python3",
      "display_name": "Python 3"
    }
  },
  "cells": [
    {
      "cell_type": "markdown",
      "metadata": {
        "id": "view-in-github",
        "colab_type": "text"
      },
      "source": [
        "<a href=\"https://colab.research.google.com/github/Rajayogi/python/blob/master/number_star_pattern.ipynb\" target=\"_parent\"><img src=\"https://colab.research.google.com/assets/colab-badge.svg\" alt=\"Open In Colab\"/></a>"
      ]
    },
    {
      "cell_type": "code",
      "metadata": {
        "id": "3Z1VitC4Ycyc",
        "colab_type": "code",
        "colab": {
          "base_uri": "https://localhost:8080/",
          "height": 118
        },
        "outputId": "b1c0d32b-0f38-4ca7-fff8-2256fe65bca0"
      },
      "source": [
        "def traingle_star_pattern(n):\n",
        "  for i in range(1,n+1):\n",
        "    print(\"*\" * i)\n",
        "    \n",
        "n = int(input())\n",
        "traingle_star_pattern(n)"
      ],
      "execution_count": 6,
      "outputs": [
        {
          "output_type": "stream",
          "text": [
            "5\n",
            "*\n",
            "**\n",
            "***\n",
            "****\n",
            "*****\n"
          ],
          "name": "stdout"
        }
      ]
    },
    {
      "cell_type": "code",
      "metadata": {
        "id": "lMi03dlxZF0p",
        "colab_type": "code",
        "colab": {
          "base_uri": "https://localhost:8080/",
          "height": 118
        },
        "outputId": "e871f0de-5948-48b6-ef92-7e9798534c60"
      },
      "source": [
        "def inverted_traingle_star_pattern(n):\n",
        "  for i in range(n,0,-1):\n",
        "    print(\"*\" * i)\n",
        "    \n",
        "n = int(input())\n",
        "inverted_traingle_star_pattern(n)"
      ],
      "execution_count": 9,
      "outputs": [
        {
          "output_type": "stream",
          "text": [
            "5\n",
            "*****\n",
            "****\n",
            "***\n",
            "**\n",
            "*\n"
          ],
          "name": "stdout"
        }
      ]
    },
    {
      "cell_type": "code",
      "metadata": {
        "id": "xM5qdD-baCRu",
        "colab_type": "code",
        "colab": {
          "base_uri": "https://localhost:8080/",
          "height": 118
        },
        "outputId": "5ca404b9-fc64-4293-fb9a-a88702db2c8e"
      },
      "source": [
        "def inverted_traingle_star_pattern_180degree(n):\n",
        "  for i in range(1,n+1):\n",
        "    for j in range(n - i):\n",
        "      print(end = \" \")\n",
        "    print(\"*\" * i)\n",
        "    \n",
        "n = int(input())\n",
        "inverted_traingle_star_pattern_180degree(n)"
      ],
      "execution_count": 16,
      "outputs": [
        {
          "output_type": "stream",
          "text": [
            "5\n",
            "    *\n",
            "   **\n",
            "  ***\n",
            " ****\n",
            "*****\n"
          ],
          "name": "stdout"
        }
      ]
    },
    {
      "cell_type": "code",
      "metadata": {
        "id": "udtMdlGGcoPj",
        "colab_type": "code",
        "colab": {
          "base_uri": "https://localhost:8080/",
          "height": 118
        },
        "outputId": "e29dcddb-5a76-48b5-a94a-e88c77543ff6"
      },
      "source": [
        "def traingle_pattern(n):\n",
        "  for i in range(1,n+1):\n",
        "    for j in range(n - i):\n",
        "      print(end = \" \")\n",
        "    print(\"* \" * i)\n",
        "    \n",
        "n = int(input())\n",
        "traingle_pattern(n)"
      ],
      "execution_count": 20,
      "outputs": [
        {
          "output_type": "stream",
          "text": [
            "5\n",
            "    * \n",
            "   * * \n",
            "  * * * \n",
            " * * * * \n",
            "* * * * * \n"
          ],
          "name": "stdout"
        }
      ]
    },
    {
      "cell_type": "code",
      "metadata": {
        "id": "XGvipQDGeWPB",
        "colab_type": "code",
        "colab": {
          "base_uri": "https://localhost:8080/",
          "height": 118
        },
        "outputId": "11ca286a-dd4a-43d6-c002-ab257aa37d9e"
      },
      "source": [
        "def number_pattern(n):\n",
        "  for i in range(1,n + 1):\n",
        "    for j in range(1, i + 1):\n",
        "      print(j, end = \" \")\n",
        "    print()\n",
        "      \n",
        "n = int(input())\n",
        "number_pattern(n)"
      ],
      "execution_count": 44,
      "outputs": [
        {
          "output_type": "stream",
          "text": [
            "5\n",
            "1 \n",
            "1 2 \n",
            "1 2 3 \n",
            "1 2 3 4 \n",
            "1 2 3 4 5 \n"
          ],
          "name": "stdout"
        }
      ]
    },
    {
      "cell_type": "code",
      "metadata": {
        "id": "2I8ofKS6iqN9",
        "colab_type": "code",
        "colab": {
          "base_uri": "https://localhost:8080/",
          "height": 118
        },
        "outputId": "d8d97249-cb0a-4eeb-ce86-0d1e5f3098db"
      },
      "source": [
        "def number_pattern(n):\n",
        "  num = 1\n",
        "  for i in range(1,n + 1):\n",
        "    for j in range(1, i + 1):\n",
        "      print(num, end = \" \")\n",
        "      num = num + 1\n",
        "    print()\n",
        "      \n",
        "n = int(input())\n",
        "number_pattern(n)"
      ],
      "execution_count": 46,
      "outputs": [
        {
          "output_type": "stream",
          "text": [
            "5\n",
            "1 \n",
            "2 3 \n",
            "4 5 6 \n",
            "7 8 9 10 \n",
            "11 12 13 14 15 \n"
          ],
          "name": "stdout"
        }
      ]
    }
  ]
}