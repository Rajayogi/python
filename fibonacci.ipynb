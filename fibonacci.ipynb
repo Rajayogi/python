{
  "nbformat": 4,
  "nbformat_minor": 0,
  "metadata": {
    "colab": {
      "name": "fibonacci.ipynb",
      "version": "0.3.2",
      "provenance": [],
      "collapsed_sections": [],
      "include_colab_link": true
    },
    "kernelspec": {
      "name": "python3",
      "display_name": "Python 3"
    }
  },
  "cells": [
    {
      "cell_type": "markdown",
      "metadata": {
        "id": "view-in-github",
        "colab_type": "text"
      },
      "source": [
        "<a href=\"https://colab.research.google.com/github/Rajayogi/python/blob/master/fibonacci.ipynb\" target=\"_parent\"><img src=\"https://colab.research.google.com/assets/colab-badge.svg\" alt=\"Open In Colab\"/></a>"
      ]
    },
    {
      "cell_type": "code",
      "metadata": {
        "id": "OZ4Dr6-x4tzr",
        "colab_type": "code",
        "colab": {
          "base_uri": "https://localhost:8080/",
          "height": 34
        },
        "outputId": "303806a7-f4f0-4257-df0a-ea3970db8f11"
      },
      "source": [
        "#recursion\n",
        "\n",
        "def fibonacci(n):\n",
        "  if n < 0:\n",
        "    return \"invalid input\"\n",
        "  \n",
        "  elif n == 0:\n",
        "    return 0\n",
        "    \n",
        "  elif n == 1:\n",
        "    return 1\n",
        "  \n",
        "  else:\n",
        "    return fibonacci(n-1) + fibonacci(n - 2)\n",
        "  \n",
        "n = 5\n",
        "print(fibonacci(5))\n",
        "    \n",
        "  "
      ],
      "execution_count": 63,
      "outputs": [
        {
          "output_type": "stream",
          "text": [
            "5\n"
          ],
          "name": "stdout"
        }
      ]
    },
    {
      "cell_type": "code",
      "metadata": {
        "id": "fDmrpTTS6u1E",
        "colab_type": "code",
        "colab": {
          "base_uri": "https://localhost:8080/",
          "height": 118
        },
        "outputId": "e62964a1-d468-4a6e-f442-23189602326b"
      },
      "source": [
        "#iterative\n",
        "\n",
        "def fibonacci(n):\n",
        "  if n <= 0:\n",
        "    print(\"invalid input\")\n",
        "  \n",
        "  elif n == 1 or n == 2:\n",
        "    print(1)\n",
        "  \n",
        "  else:\n",
        "    prev = 1\n",
        "    cur = 1\n",
        "    for i in range(n-2):\n",
        "      res = prev + cur\n",
        "      prev = cur\n",
        "      cur = res\n",
        "      \n",
        "    print(res)\n",
        "  \n",
        "n = 5\n",
        "fibonacci(1)\n",
        "fibonacci(2)\n",
        "fibonacci(3)\n",
        "fibonacci(4)\n",
        "fibonacci(5)\n",
        "fibonacci(6)"
      ],
      "execution_count": 56,
      "outputs": [
        {
          "output_type": "stream",
          "text": [
            "1\n",
            "1\n",
            "2\n",
            "3\n",
            "5\n",
            "8\n"
          ],
          "name": "stdout"
        }
      ]
    },
    {
      "cell_type": "code",
      "metadata": {
        "id": "VfrhluXt9FU4",
        "colab_type": "code",
        "colab": {
          "base_uri": "https://localhost:8080/",
          "height": 50
        },
        "outputId": "17a3791a-57f8-459e-ac8d-48294f46920d"
      },
      "source": [
        "#dynamic programming\n",
        "\n",
        "def fibonacci(n):\n",
        "  if n < 0:\n",
        "    print(\"invalid input\")\n",
        "  \n",
        "  elif n <= len(fib_list): \n",
        "        return fib_list[n-1] \n",
        "  \n",
        "  else:\n",
        "    temp = fibonacci(n-1) + fibonacci(n-2)\n",
        "    fib_list.append(temp)\n",
        "    return(temp)\n",
        "    return(fib_list)\n",
        "  \n",
        "  \n",
        "n = 5\n",
        "fib_list = [0, 1]\n",
        "res = fibonacci(9)\n",
        "print(fib_list)\n",
        "print(res)\n",
        "    \n",
        "  "
      ],
      "execution_count": 76,
      "outputs": [
        {
          "output_type": "stream",
          "text": [
            "[0, 1, 1, 2, 3, 5, 8, 13, 21]\n",
            "21\n"
          ],
          "name": "stdout"
        }
      ]
    }
  ]
}