{
  "nbformat": 4,
  "nbformat_minor": 0,
  "metadata": {
    "colab": {
      "name": "sort and serach.ipynb",
      "version": "0.3.2",
      "provenance": [],
      "include_colab_link": true
    },
    "kernelspec": {
      "name": "python3",
      "display_name": "Python 3"
    }
  },
  "cells": [
    {
      "cell_type": "markdown",
      "metadata": {
        "id": "view-in-github",
        "colab_type": "text"
      },
      "source": [
        "<a href=\"https://colab.research.google.com/github/Rajayogi/python/blob/master/sort_and_serach.ipynb\" target=\"_parent\"><img src=\"https://colab.research.google.com/assets/colab-badge.svg\" alt=\"Open In Colab\"/></a>"
      ]
    },
    {
      "cell_type": "markdown",
      "metadata": {
        "id": "n4NE2Rj-pJDP",
        "colab_type": "text"
      },
      "source": [
        "BUBBLE SORT\n",
        "\n",
        "Worst and Average Case Time Complexity: O(n*n). Worst case occurs when array is reverse sorted.\n",
        "\n",
        "Best Case Time Complexity: O(n). Best case occurs when array is already sorted.\n",
        "\n",
        "Auxiliary Space: O(1)\n",
        "\n",
        "Boundary Cases: Bubble sort takes minimum time (Order of n) when elements are already sorted.\n",
        "\n",
        "Sorting In Place: Yes\n",
        "\n",
        "Stable: Yes"
      ]
    },
    {
      "cell_type": "code",
      "metadata": {
        "id": "5SW1z0rEWLEz",
        "colab_type": "code",
        "colab": {
          "base_uri": "https://localhost:8080/",
          "height": 118
        },
        "outputId": "fd85b386-828e-47d6-d368-73c160604aa8"
      },
      "source": [
        "def bubble_sort(arr):\n",
        "  n = len(arr)\n",
        "  for i in range(n - 1):\n",
        "    for j in range(n - i - 1):\n",
        "      if arr[j] > arr[j + 1]:\n",
        "        arr[j + 1], arr[j] = arr[j], arr[j + 1] \n",
        "    print(arr)\n",
        "  print(arr)\n",
        "    \n",
        "    \n",
        "arr = [7,12,3,11,4,6]\n",
        "bubble_sort(arr)"
      ],
      "execution_count": 20,
      "outputs": [
        {
          "output_type": "stream",
          "text": [
            "[7, 3, 11, 4, 6, 12]\n",
            "[3, 7, 4, 6, 11, 12]\n",
            "[3, 4, 6, 7, 11, 12]\n",
            "[3, 4, 6, 7, 11, 12]\n",
            "[3, 4, 6, 7, 11, 12]\n",
            "[3, 4, 6, 7, 11, 12]\n"
          ],
          "name": "stdout"
        }
      ]
    },
    {
      "cell_type": "markdown",
      "metadata": {
        "id": "Yw9A2eCip_5F",
        "colab_type": "text"
      },
      "source": [
        "SELECTION SORT\n",
        "\n",
        "Time Complexity: O(n2) as there are two nested loops.\n",
        "\n",
        "Auxiliary Space: O(1)\n",
        "The good thing about selection sort is it never makes more than O(n) swaps and can be useful when memory write is a costly operation.\n",
        "\n",
        "\n"
      ]
    },
    {
      "cell_type": "code",
      "metadata": {
        "id": "47DECgbSd3WT",
        "colab_type": "code",
        "colab": {
          "base_uri": "https://localhost:8080/",
          "height": 118
        },
        "outputId": "65f0c58e-0a52-41a7-8ba8-00bbfb22741e"
      },
      "source": [
        "def selection_sort(arr):\n",
        "  n = len(arr)\n",
        "  for i in range(n - 1):\n",
        "    temp = arr[i]\n",
        "    min1 = i\n",
        "    for j in range(i, n):\n",
        "      if arr[min1] > arr[j]:\n",
        "        min1 = j\n",
        "    arr[i] = arr[min1]\n",
        "    arr[min1] = temp\n",
        "        \n",
        "    print(arr)\n",
        "  print(arr)\n",
        "    \n",
        "    \n",
        "arr = [7,12,3,11,4,6]\n",
        "selection_sort(arr)"
      ],
      "execution_count": 26,
      "outputs": [
        {
          "output_type": "stream",
          "text": [
            "[3, 12, 7, 11, 4, 6]\n",
            "[3, 4, 7, 11, 12, 6]\n",
            "[3, 4, 6, 11, 12, 7]\n",
            "[3, 4, 6, 7, 12, 11]\n",
            "[3, 4, 6, 7, 11, 12]\n",
            "[3, 4, 6, 7, 11, 12]\n"
          ],
          "name": "stdout"
        }
      ]
    },
    {
      "cell_type": "markdown",
      "metadata": {
        "id": "noHoDBThqYTt",
        "colab_type": "text"
      },
      "source": [
        "LINEAR SEARCH\n",
        "\n",
        "Time Complexity: O(n)"
      ]
    },
    {
      "cell_type": "code",
      "metadata": {
        "id": "ukwgMOrWhSFd",
        "colab_type": "code",
        "colab": {
          "base_uri": "https://localhost:8080/",
          "height": 168
        },
        "outputId": "105d57ec-418c-454c-c063-4a9da3912bf9"
      },
      "source": [
        "def linear_search(arr, item):\n",
        "  for i in range(len(arr)):\n",
        "    if arr[i] == item:\n",
        "      return i\n",
        "  return -1    \n",
        "            \n",
        "arr = [3, 4, 6, 7, 11, 12]\n",
        "item = 11\n",
        "result = linear_search(arr, item)\n",
        "if result != -1:\n",
        "      print(\"Different print statements\")\n",
        "      print(\"Pass it as a tuple:\")\n",
        "      print(\"item %s found at position %s\"% (item, result))\n",
        "      print(\"Pass it as a dictionary:\")\n",
        "      print(\"item %(n)s found at position %(s)s\"% {'n': item, 's': result})\n",
        "      print(\"Just pass the values as parameters:\")\n",
        "      print(\"item \", item, \"found at position \", result)\n",
        "      print(\"Concatenate strings:\")\n",
        "      print(\"item \" + str(item) + \" found at position \" + str(result))\n",
        "else:\n",
        "  print(\"item is not present in array\")"
      ],
      "execution_count": 74,
      "outputs": [
        {
          "output_type": "stream",
          "text": [
            "Different print statements\n",
            "Pass it as a tuple:\n",
            "item 11 found at position 4\n",
            "Pass it as a dictionary:\n",
            "item 11 found at position 4\n",
            "Just pass the values as parameters:\n",
            "item  11 found at position  4\n",
            "Concatenate strings:\n",
            "item 11 found at position 4\n"
          ],
          "name": "stdout"
        }
      ]
    },
    {
      "cell_type": "markdown",
      "metadata": {
        "id": "AByx2n4Jql_i",
        "colab_type": "text"
      },
      "source": [
        "BINARY SEARCH\n",
        "\n",
        "Time Complexity: O(log n)\n",
        "\n",
        "Auxiliary Space: O(1) in case of iterative implementation. In case of recursive implementation, O(Logn) recursion call stack space.\n",
        "\n",
        "Algorithmic Paradigm: Decrease and Conquer."
      ]
    },
    {
      "cell_type": "code",
      "metadata": {
        "id": "-zk4vD1MlS9G",
        "colab_type": "code",
        "colab": {
          "base_uri": "https://localhost:8080/",
          "height": 34
        },
        "outputId": "553e7d4c-fa6d-4e57-bd2a-298e5a2c02bf"
      },
      "source": [
        "def binary_search(arr,item,low,high):\n",
        "  if high >= low: \n",
        "    mid = low + (high - low)//2\n",
        "    if item == arr[mid]:\n",
        "      return mid\n",
        "    if item > arr[mid]:\n",
        "      return binary_search(arr,item,mid + 1,high)\n",
        "    else:\n",
        "      return binary_search(arr,item,low,mid - 1)\n",
        "  else:\n",
        "    return -1\n",
        "    \n",
        "arr = [3, 4, 6, 7, 11, 12]\n",
        "item = 12\n",
        "result = binary_search(arr, item, 0 , len(arr) - 1)\n",
        "if result != -1: \n",
        "    print(\"item %s found at position %s\"% (item, result)) \n",
        "else: \n",
        "    print(\"item is not present in array\")"
      ],
      "execution_count": 64,
      "outputs": [
        {
          "output_type": "stream",
          "text": [
            "item 12 found at position 5\n"
          ],
          "name": "stdout"
        }
      ]
    }
  ]
}