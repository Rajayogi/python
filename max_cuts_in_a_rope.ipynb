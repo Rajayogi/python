{
  "nbformat": 4,
  "nbformat_minor": 0,
  "metadata": {
    "colab": {
      "name": "max_cuts_in_a_rope.ipynb",
      "version": "0.3.2",
      "provenance": [],
      "include_colab_link": true
    },
    "kernelspec": {
      "name": "python3",
      "display_name": "Python 3"
    }
  },
  "cells": [
    {
      "cell_type": "markdown",
      "metadata": {
        "id": "view-in-github",
        "colab_type": "text"
      },
      "source": [
        "<a href=\"https://colab.research.google.com/github/Rajayogi/python/blob/master/max_cuts_in_a_rope.ipynb\" target=\"_parent\"><img src=\"https://colab.research.google.com/assets/colab-badge.svg\" alt=\"Open In Colab\"/></a>"
      ]
    },
    {
      "cell_type": "code",
      "metadata": {
        "id": "jx9Th2WWdzHc",
        "colab_type": "code",
        "colab": {
          "base_uri": "https://localhost:8080/",
          "height": 34
        },
        "outputId": "9b51caf6-7f3b-4a32-994b-252531ca27fb"
      },
      "source": [
        "def max_cuts_in_a_rope(n,a,b,c):\n",
        "  if n == 0:\n",
        "    return 0\n",
        "  elif n < 0:\n",
        "    return -1\n",
        "  res =  max( {max_cuts_in_a_rope(n -a,a,b,c), max_cuts_in_a_rope(n - b,a,b,c),max_cuts_in_a_rope(n - c,a,b,c)} )    \n",
        "  \n",
        "  if res == -1:\n",
        "    return -1\n",
        "  return res + 1\n",
        "  \n",
        "n = 5\n",
        "res = max_cuts_in_a_rope(n,1,2,3)\n",
        "print(res)"
      ],
      "execution_count": 44,
      "outputs": [
        {
          "output_type": "stream",
          "text": [
            "5\n"
          ],
          "name": "stdout"
        }
      ]
    }
  ]
}