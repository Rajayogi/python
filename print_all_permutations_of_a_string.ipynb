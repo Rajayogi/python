{
  "nbformat": 4,
  "nbformat_minor": 0,
  "metadata": {
    "colab": {
      "name": "print all permutations of a string.ipynb",
      "version": "0.3.2",
      "provenance": [],
      "include_colab_link": true
    },
    "kernelspec": {
      "name": "python3",
      "display_name": "Python 3"
    }
  },
  "cells": [
    {
      "cell_type": "markdown",
      "metadata": {
        "id": "view-in-github",
        "colab_type": "text"
      },
      "source": [
        "<a href=\"https://colab.research.google.com/github/Rajayogi/python/blob/master/print_all_permutations_of_a_string.ipynb\" target=\"_parent\"><img src=\"https://colab.research.google.com/assets/colab-badge.svg\" alt=\"Open In Colab\"/></a>"
      ]
    },
    {
      "cell_type": "code",
      "metadata": {
        "id": "spZ4Hg3-CwUi",
        "colab_type": "code",
        "colab": {
          "base_uri": "https://localhost:8080/",
          "height": 134
        },
        "outputId": "03adc4a4-1377-4d40-8e33-a58ec3c2bde9"
      },
      "source": [
        "# Python program to print all permutations with\n",
        "# duplicates allowed\n",
        "\n",
        "def toString(List):\n",
        "    return ''.join(List)\n",
        "\n",
        "def permute(a, l, r):\n",
        "    if l==r:\n",
        "        print(toString(a))\n",
        "    else:\n",
        "        for i in range(l,r+1):\n",
        "            a[l], a[i] = a[i], a[l]\n",
        "            permute(a, l+1, r)\n",
        "            a[l], a[i] = a[i], a[l] # backtrack\n",
        "\n",
        "\n",
        "string = \"ABC\"\n",
        "n = len(string)\n",
        "a = list(string)\n",
        "print(a)\n",
        "permute(a, 0, n-1)"
      ],
      "execution_count": 6,
      "outputs": [
        {
          "output_type": "stream",
          "text": [
            "['A', 'B', 'C']\n",
            "ABC\n",
            "ACB\n",
            "BAC\n",
            "BCA\n",
            "CBA\n",
            "CAB\n"
          ],
          "name": "stdout"
        }
      ]
    }
  ]
}