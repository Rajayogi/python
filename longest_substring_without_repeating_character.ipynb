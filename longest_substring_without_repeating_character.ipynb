{
  "nbformat": 4,
  "nbformat_minor": 0,
  "metadata": {
    "colab": {
      "name": "longest_substring_without_repeating_character.ipynb",
      "version": "0.3.2",
      "provenance": [],
      "include_colab_link": true
    },
    "kernelspec": {
      "name": "python3",
      "display_name": "Python 3"
    }
  },
  "cells": [
    {
      "cell_type": "markdown",
      "metadata": {
        "id": "view-in-github",
        "colab_type": "text"
      },
      "source": [
        "<a href=\"https://colab.research.google.com/github/Rajayogi/python/blob/master/longest_substring_without_repeating_character.ipynb\" target=\"_parent\"><img src=\"https://colab.research.google.com/assets/colab-badge.svg\" alt=\"Open In Colab\"/></a>"
      ]
    },
    {
      "cell_type": "code",
      "metadata": {
        "id": "RhyKiNwMXWkb",
        "colab_type": "code",
        "colab": {
          "base_uri": "https://localhost:8080/",
          "height": 605
        },
        "outputId": "8cc04e03-36b8-4919-8e3d-065386396408"
      },
      "source": [
        "def longest_substring(str1):\n",
        "  seen = {}\n",
        "  max_len = 0\n",
        "  start = 0\n",
        "  for end in range(len(str1)):\n",
        "    print(seen)\n",
        "    if str1[end] in seen:\n",
        "      start = max(start, seen[str1[end]] + 1)\n",
        "    seen[str1[end]] = end\n",
        "    max_len = max(max_len, end - start + 1)\n",
        "  print(seen)\n",
        "  print(max_len)\n",
        "\n",
        "longest_substring(\"wzzzzzzzzzzwxz\")\n",
        "longest_substring(\"abcabcd\")\n",
        "longest_substring(\"rajayogi\")\n",
        "  "
      ],
      "execution_count": 58,
      "outputs": [
        {
          "output_type": "stream",
          "text": [
            "{}\n",
            "{'w': 0}\n",
            "{'w': 0, 'z': 1}\n",
            "{'w': 0, 'z': 2}\n",
            "{'w': 0, 'z': 3}\n",
            "{'w': 0, 'z': 4}\n",
            "{'w': 0, 'z': 5}\n",
            "{'w': 0, 'z': 6}\n",
            "{'w': 0, 'z': 7}\n",
            "{'w': 0, 'z': 8}\n",
            "{'w': 0, 'z': 9}\n",
            "{'w': 0, 'z': 10}\n",
            "{'w': 11, 'z': 10}\n",
            "{'w': 11, 'z': 10, 'x': 12}\n",
            "{'w': 11, 'z': 13, 'x': 12}\n",
            "3\n",
            "{}\n",
            "{'a': 0}\n",
            "{'a': 0, 'b': 1}\n",
            "{'a': 0, 'b': 1, 'c': 2}\n",
            "{'a': 3, 'b': 1, 'c': 2}\n",
            "{'a': 3, 'b': 4, 'c': 2}\n",
            "{'a': 3, 'b': 4, 'c': 5}\n",
            "{'a': 3, 'b': 4, 'c': 5, 'd': 6}\n",
            "4\n",
            "{}\n",
            "{'r': 0}\n",
            "{'r': 0, 'a': 1}\n",
            "{'r': 0, 'a': 1, 'j': 2}\n",
            "{'r': 0, 'a': 3, 'j': 2}\n",
            "{'r': 0, 'a': 3, 'j': 2, 'y': 4}\n",
            "{'r': 0, 'a': 3, 'j': 2, 'y': 4, 'o': 5}\n",
            "{'r': 0, 'a': 3, 'j': 2, 'y': 4, 'o': 5, 'g': 6}\n",
            "{'r': 0, 'a': 3, 'j': 2, 'y': 4, 'o': 5, 'g': 6, 'i': 7}\n",
            "6\n"
          ],
          "name": "stdout"
        }
      ]
    }
  ]
}