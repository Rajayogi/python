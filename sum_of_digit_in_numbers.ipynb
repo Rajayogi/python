{
  "nbformat": 4,
  "nbformat_minor": 0,
  "metadata": {
    "colab": {
      "name": "sum_of_digit_in_numbers.ipynb",
      "version": "0.3.2",
      "provenance": [],
      "include_colab_link": true
    },
    "kernelspec": {
      "name": "python3",
      "display_name": "Python 3"
    }
  },
  "cells": [
    {
      "cell_type": "markdown",
      "metadata": {
        "id": "view-in-github",
        "colab_type": "text"
      },
      "source": [
        "<a href=\"https://colab.research.google.com/github/Rajayogi/python/blob/master/sum_of_digit_in_numbers.ipynb\" target=\"_parent\"><img src=\"https://colab.research.google.com/assets/colab-badge.svg\" alt=\"Open In Colab\"/></a>"
      ]
    },
    {
      "cell_type": "code",
      "metadata": {
        "id": "f8lr0HOLc3aT",
        "colab_type": "code",
        "colab": {
          "base_uri": "https://localhost:8080/",
          "height": 34
        },
        "outputId": "4f66ccd4-e8c6-40ed-d228-a36cfab57257"
      },
      "source": [
        "def sum(n):\n",
        "  sum1 = 0\n",
        "  while(n>0):\n",
        "    r = n % 10\n",
        "    sum1 = sum1 + r\n",
        "    n = (int(n / 10))\n",
        "  print(\"sum =\", sum1)\n",
        "  \n",
        "sum(1234)\n",
        "  "
      ],
      "execution_count": 7,
      "outputs": [
        {
          "output_type": "stream",
          "text": [
            "sum = 10\n"
          ],
          "name": "stdout"
        }
      ]
    },
    {
      "cell_type": "code",
      "metadata": {
        "id": "s6JjU5emMfOO",
        "colab_type": "code",
        "colab": {
          "base_uri": "https://localhost:8080/",
          "height": 34
        },
        "outputId": "d35ade01-9cdc-4cf9-e961-214b7bb87616"
      },
      "source": [
        "def recursion_sum(n):\n",
        "  if n < 10:\n",
        "    return n\n",
        "  else:\n",
        "    return recursion_sum(int(n/10)) + n % 10\n",
        "  \n",
        "sum = recursion_sum(1234)\n",
        "print(\"sum = \", sum)"
      ],
      "execution_count": 9,
      "outputs": [
        {
          "output_type": "stream",
          "text": [
            "sum =  10\n"
          ],
          "name": "stdout"
        }
      ]
    },
    {
      "cell_type": "code",
      "metadata": {
        "id": "jx9Th2WWdzHc",
        "colab_type": "code",
        "colab": {}
      },
      "source": [
        ""
      ],
      "execution_count": 0,
      "outputs": []
    }
  ]
}