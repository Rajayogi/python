{
  "nbformat": 4,
  "nbformat_minor": 0,
  "metadata": {
    "colab": {
      "name": "JOSEPHUS.ipynb",
      "version": "0.3.2",
      "provenance": [],
      "include_colab_link": true
    },
    "kernelspec": {
      "name": "python3",
      "display_name": "Python 3"
    }
  },
  "cells": [
    {
      "cell_type": "markdown",
      "metadata": {
        "id": "view-in-github",
        "colab_type": "text"
      },
      "source": [
        "<a href=\"https://colab.research.google.com/github/Rajayogi/python/blob/master/JOSEPHUS.ipynb\" target=\"_parent\"><img src=\"https://colab.research.google.com/assets/colab-badge.svg\" alt=\"Open In Colab\"/></a>"
      ]
    },
    {
      "cell_type": "markdown",
      "metadata": {
        "id": "RWsHu4eBcjmn",
        "colab_type": "text"
      },
      "source": [
        "JOSEPHUS PROBLEM\n",
        "\n",
        "Given n people in circle, every kth person is killed in iteration, find the survivor"
      ]
    },
    {
      "cell_type": "code",
      "metadata": {
        "id": "f8lr0HOLc3aT",
        "colab_type": "code",
        "colab": {
          "base_uri": "https://localhost:8080/",
          "height": 34
        },
        "outputId": "523979c4-baf9-4a41-a142-51001912269f"
      },
      "source": [
        "def josephus(n, k): \n",
        "  \n",
        "      if (n == 1): \n",
        "          return n\n",
        "      else:  \n",
        "          return (josephus(n - 1, k) + k-1) % n + 1\n",
        "  \n",
        "  \n",
        "n = 7\n",
        "k = 3\n",
        "  \n",
        "print(\"The chosen place is \", josephus(n, k))\n",
        " "
      ],
      "execution_count": 1,
      "outputs": [
        {
          "output_type": "stream",
          "text": [
            "The chosen place is  4\n"
          ],
          "name": "stdout"
        }
      ]
    },
    {
      "cell_type": "code",
      "metadata": {
        "id": "jx9Th2WWdzHc",
        "colab_type": "code",
        "colab": {}
      },
      "source": [
        ""
      ],
      "execution_count": 0,
      "outputs": []
    }
  ]
}