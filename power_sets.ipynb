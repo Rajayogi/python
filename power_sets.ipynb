{
  "nbformat": 4,
  "nbformat_minor": 0,
  "metadata": {
    "colab": {
      "name": "power sets.ipynb",
      "version": "0.3.2",
      "provenance": [],
      "include_colab_link": true
    },
    "kernelspec": {
      "name": "python3",
      "display_name": "Python 3"
    }
  },
  "cells": [
    {
      "cell_type": "markdown",
      "metadata": {
        "id": "view-in-github",
        "colab_type": "text"
      },
      "source": [
        "<a href=\"https://colab.research.google.com/github/Rajayogi/python/blob/master/power_sets.ipynb\" target=\"_parent\"><img src=\"https://colab.research.google.com/assets/colab-badge.svg\" alt=\"Open In Colab\"/></a>"
      ]
    },
    {
      "cell_type": "code",
      "metadata": {
        "id": "jx9Th2WWdzHc",
        "colab_type": "code",
        "colab": {
          "base_uri": "https://localhost:8080/",
          "height": 151
        },
        "outputId": "2a1af266-2d4c-465d-ada5-f1970d9b8926"
      },
      "source": [
        "#using bit logic\n",
        "import math;\n",
        "def power_sets(str1):\n",
        "\n",
        "  counter = int(math.pow(2, len(str1)))\n",
        "  for i in range(0, counter):\n",
        "    for j in range(len(str1)):\n",
        "      if((i & (1<<j)) > 0):\n",
        "         print(set[j], end = \"\"); \n",
        "    print(\"\"); \n",
        "\n",
        "str1 = ['a', 'b', 'c'];\n",
        "power_sets(str1)"
      ],
      "execution_count": 49,
      "outputs": [
        {
          "output_type": "stream",
          "text": [
            "\n",
            "a\n",
            "b\n",
            "ab\n",
            "c\n",
            "ac\n",
            "bc\n",
            "abc\n"
          ],
          "name": "stdout"
        }
      ]
    },
    {
      "cell_type": "code",
      "metadata": {
        "id": "k7aet2phhIcb",
        "colab_type": "code",
        "colab": {
          "base_uri": "https://localhost:8080/",
          "height": 151
        },
        "outputId": "65c1919f-bc9f-4b2f-b9cc-ddf02fd8ee3b"
      },
      "source": [
        "#using recursion\n",
        "def powerset(str1, index = 0 ,curr = \" \"):\n",
        "  n = len(str1)\n",
        "  if index == n:\n",
        "    print(curr)\n",
        "    return\n",
        "  powerset(str1, index + 1, curr + str1[index])\n",
        "  powerset(str1, index + 1, curr)\n",
        "\n",
        "\n",
        "str1 = \"abc\"; \n",
        "powerset(str1); \n",
        " \n"
      ],
      "execution_count": 54,
      "outputs": [
        {
          "output_type": "stream",
          "text": [
            " abc\n",
            " ab\n",
            " ac\n",
            " a\n",
            " bc\n",
            " b\n",
            " c\n",
            " \n"
          ],
          "name": "stdout"
        }
      ]
    }
  ]
}