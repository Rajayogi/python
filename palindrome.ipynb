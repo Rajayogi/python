{
  "nbformat": 4,
  "nbformat_minor": 0,
  "metadata": {
    "colab": {
      "name": "palindrome.ipynb",
      "version": "0.3.2",
      "provenance": [],
      "include_colab_link": true
    },
    "kernelspec": {
      "name": "python3",
      "display_name": "Python 3"
    }
  },
  "cells": [
    {
      "cell_type": "markdown",
      "metadata": {
        "id": "view-in-github",
        "colab_type": "text"
      },
      "source": [
        "<a href=\"https://colab.research.google.com/github/Rajayogi/python/blob/master/palindrome.ipynb\" target=\"_parent\"><img src=\"https://colab.research.google.com/assets/colab-badge.svg\" alt=\"Open In Colab\"/></a>"
      ]
    },
    {
      "cell_type": "code",
      "metadata": {
        "id": "232n-U7hXlqI",
        "colab_type": "code",
        "colab": {
          "base_uri": "https://localhost:8080/",
          "height": 34
        },
        "outputId": "6e14b78d-5662-48ce-9fc2-734c587c4c12"
      },
      "source": [
        "#Palindrom using recursion\n",
        "def is_palindrome(str1, start, end):\n",
        "  if start == end:\n",
        "    return \"is a palindrome\"\n",
        "  elif start > end:\n",
        "    return \" is a palindrome\"\n",
        "  else:\n",
        "    if str1[start] != str1[end]:\n",
        "      return \"is not a palindrome\"\n",
        "    return is_palindrome(str1, start+1, end - 1)\n",
        "\n",
        "#str1 = \"malayalam\"\n",
        "#str1 = \"rajayogi\"\n",
        "#str1 = \"noon\"\n",
        "str1 = \"a\"\n",
        "end = len(str1) - 1\n",
        "res = is_palindrome(str1,0,end)\n",
        "print(str1, res)"
      ],
      "execution_count": 34,
      "outputs": [
        {
          "output_type": "stream",
          "text": [
            "a is a palindrome\n"
          ],
          "name": "stdout"
        }
      ]
    },
    {
      "cell_type": "code",
      "metadata": {
        "id": "LIljAre8ao1T",
        "colab_type": "code",
        "colab": {
          "base_uri": "https://localhost:8080/",
          "height": 34
        },
        "outputId": "9fd0c98f-3fa5-494e-98b4-aee2be85fde1"
      },
      "source": [
        "#using inbuilt function\n",
        "def is_palindrome(str1):\n",
        "  if str1 == str1[::-1]:\n",
        "    print(str1,\" is a palindrome\")\n",
        "  else:\n",
        "    print(str1,\" is not a palindrome\")\n",
        "    \n",
        "str1 = \"malayalam\"\n",
        "#str1 = \"rajayogi\"\n",
        "#str1 = \"noon\"\n",
        "#str1 = \"a\"\n",
        "is_palindrome(str1)"
      ],
      "execution_count": 38,
      "outputs": [
        {
          "output_type": "stream",
          "text": [
            "malayalam  is a palindrome\n"
          ],
          "name": "stdout"
        }
      ]
    }
  ]
}