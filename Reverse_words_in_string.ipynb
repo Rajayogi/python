{
  "nbformat": 4,
  "nbformat_minor": 0,
  "metadata": {
    "colab": {
      "name": "Reverse_words_in_string.ipynb",
      "version": "0.3.2",
      "provenance": [],
      "collapsed_sections": [],
      "include_colab_link": true
    },
    "kernelspec": {
      "name": "python3",
      "display_name": "Python 3"
    }
  },
  "cells": [
    {
      "cell_type": "markdown",
      "metadata": {
        "id": "view-in-github",
        "colab_type": "text"
      },
      "source": [
        "<a href=\"https://colab.research.google.com/github/Rajayogi/python/blob/master/Reverse_words_in_string.ipynb\" target=\"_parent\"><img src=\"https://colab.research.google.com/assets/colab-badge.svg\" alt=\"Open In Colab\"/></a>"
      ]
    },
    {
      "cell_type": "code",
      "metadata": {
        "id": "yLbkhBFGodWW",
        "colab_type": "code",
        "colab": {
          "base_uri": "https://localhost:8080/",
          "height": 34
        },
        "outputId": "fabd5799-128b-4dc6-ee76-ab445f88b9b4"
      },
      "source": [
        "def Reverse_words_in_string(str1):\n",
        "  l1 = [i for i in str1.split(\" \")]\n",
        "  #print(l1)\n",
        "  str2 = \" \"\n",
        "  for i in reversed(l1):\n",
        "    str2 += i\n",
        "    str2 += \" \"\n",
        "  print(str2)\n",
        "  \n",
        "str1 = \"i like this program very much\"\n",
        "Reverse_words_in_string(str1)"
      ],
      "execution_count": 35,
      "outputs": [
        {
          "output_type": "stream",
          "text": [
            " much very program this like i \n"
          ],
          "name": "stdout"
        }
      ]
    },
    {
      "cell_type": "code",
      "metadata": {
        "id": "9m5lsW4YuVzx",
        "colab_type": "code",
        "colab": {
          "base_uri": "https://localhost:8080/",
          "height": 50
        },
        "outputId": "dc6d6efe-0a2d-4a9c-8458-4af9040dfb58"
      },
      "source": [
        "def Reverse_words_in_string(str1):\n",
        "  str1 = str1.split(\" \")\n",
        "  print(str1)\n",
        "  res = str1[-1::-1]\n",
        "  res = \" \".join(res)\n",
        "  print(res)\n",
        "  \n",
        "str1 = \"i like this program very much\"\n",
        "Reverse_words_in_string(str1)"
      ],
      "execution_count": 37,
      "outputs": [
        {
          "output_type": "stream",
          "text": [
            "['i', 'like', 'this', 'program', 'very', 'much']\n",
            "much very program this like i\n"
          ],
          "name": "stdout"
        }
      ]
    },
    {
      "cell_type": "code",
      "metadata": {
        "id": "45docoCgyfi2",
        "colab_type": "code",
        "colab": {
          "base_uri": "https://localhost:8080/",
          "height": 134
        },
        "outputId": "c3fba723-099a-435e-8e6a-345d86026a07"
      },
      "source": [
        "def Reverse_words_in_string(str1):\n",
        "  str1 = str1.split(\" \")\n",
        "  l1 =[] \n",
        "  for word in str1: \n",
        "    l1.insert(0, word)\n",
        "    print(l1)\n",
        "  print(\" \".join(l1)) \n",
        "  \n",
        "str1 = \"i like this program very much\"\n",
        "Reverse_words_in_string(str1)"
      ],
      "execution_count": 40,
      "outputs": [
        {
          "output_type": "stream",
          "text": [
            "['i']\n",
            "['like', 'i']\n",
            "['this', 'like', 'i']\n",
            "['program', 'this', 'like', 'i']\n",
            "['very', 'program', 'this', 'like', 'i']\n",
            "['much', 'very', 'program', 'this', 'like', 'i']\n",
            "much very program this like i\n"
          ],
          "name": "stdout"
        }
      ]
    }
  ]
}