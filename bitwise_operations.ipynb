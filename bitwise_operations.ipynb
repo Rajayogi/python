{
  "nbformat": 4,
  "nbformat_minor": 0,
  "metadata": {
    "colab": {
      "name": "bitwise_operations.ipynb",
      "version": "0.3.2",
      "provenance": [],
      "include_colab_link": true
    },
    "kernelspec": {
      "name": "python3",
      "display_name": "Python 3"
    }
  },
  "cells": [
    {
      "cell_type": "markdown",
      "metadata": {
        "id": "view-in-github",
        "colab_type": "text"
      },
      "source": [
        "<a href=\"https://colab.research.google.com/github/Rajayogi/python/blob/master/bitwise_operations.ipynb\" target=\"_parent\"><img src=\"https://colab.research.google.com/assets/colab-badge.svg\" alt=\"Open In Colab\"/></a>"
      ]
    },
    {
      "cell_type": "code",
      "metadata": {
        "id": "aGJ-R50csjcq",
        "colab_type": "code",
        "colab": {
          "base_uri": "https://localhost:8080/",
          "height": 118
        },
        "outputId": "153ba0fb-4291-48ac-cdb1-b109dd4ceb9b"
      },
      "source": [
        "# Function for multiplication \n",
        "def multiply(n, m): \n",
        "    ans = 0\n",
        "    count = 0\n",
        "    while (m): \n",
        "        # check for set bit and left  \n",
        "        # shift n, count times \n",
        "        if (m % 2 == 1): \n",
        "            ans += n << count \n",
        "            print(\"m \", m)\n",
        "  \n",
        "        # increment of place value (count) \n",
        "        count += 1\n",
        "        m = int(m/2)\n",
        "        print(m)\n",
        "  \n",
        "    return ans \n",
        "  \n",
        " \n",
        "n = 3\n",
        "m = 8\n",
        "print(multiply(n, m)) \n"
      ],
      "execution_count": 7,
      "outputs": [
        {
          "output_type": "stream",
          "text": [
            "4\n",
            "2\n",
            "1\n",
            "m  1\n",
            "0\n",
            "24\n"
          ],
          "name": "stdout"
        }
      ]
    },
    {
      "cell_type": "code",
      "metadata": {
        "id": "cl0iMR8DzrQH",
        "colab_type": "code",
        "colab": {
          "base_uri": "https://localhost:8080/",
          "height": 34
        },
        "outputId": "0a4ecff6-a6aa-4631-c626-f3b4029e4142"
      },
      "source": [
        "def multiplyWith4(n): \n",
        "  \n",
        "    # returning a number with \n",
        "    # multipy with 4 using2 \n",
        "    # bit shifring right \n",
        "    return (n << 2) \n",
        "  \n",
        "# derive function \n",
        "n = 4\n",
        "print(multiplyWith4(n)) "
      ],
      "execution_count": 8,
      "outputs": [
        {
          "output_type": "stream",
          "text": [
            "16\n"
          ],
          "name": "stdout"
        }
      ]
    },
    {
      "cell_type": "code",
      "metadata": {
        "id": "fP0GNgWtz4Hk",
        "colab_type": "code",
        "colab": {
          "base_uri": "https://localhost:8080/",
          "height": 34
        },
        "outputId": "99b59091-c3e8-40fe-eb24-998fde48812e"
      },
      "source": [
        "def multiplyBySeven(n): \n",
        "  \n",
        "    # Note the inner bracket here.  \n",
        "    # This is needed because  \n",
        "    # precedence of '-' operator is  \n",
        "    # higher than '<<'  \n",
        "    return ((n << 3) - n) \n",
        "  \n",
        "# Driver code  \n",
        "n = 4\n",
        "print(multiplyBySeven(n))"
      ],
      "execution_count": 9,
      "outputs": [
        {
          "output_type": "stream",
          "text": [
            "28\n"
          ],
          "name": "stdout"
        }
      ]
    },
    {
      "cell_type": "code",
      "metadata": {
        "id": "4nr04ztbz-IR",
        "colab_type": "code",
        "colab": {
          "base_uri": "https://localhost:8080/",
          "height": 34
        },
        "outputId": "864a93df-88af-4a38-ad34-f986cc9bd992"
      },
      "source": [
        "def multiplyTen(n): \n",
        "  \n",
        "    return (n << 1) + (n << 3) \n",
        "  \n",
        "# Driver program to run the case \n",
        "n = 50\n",
        "print (multiplyTen(n)) "
      ],
      "execution_count": 10,
      "outputs": [
        {
          "output_type": "stream",
          "text": [
            "500\n"
          ],
          "name": "stdout"
        }
      ]
    }
  ]
}