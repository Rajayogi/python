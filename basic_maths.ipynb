{
  "nbformat": 4,
  "nbformat_minor": 0,
  "metadata": {
    "colab": {
      "name": "basic_maths.ipynb",
      "version": "0.3.2",
      "provenance": [],
      "include_colab_link": true
    },
    "kernelspec": {
      "name": "python3",
      "display_name": "Python 3"
    }
  },
  "cells": [
    {
      "cell_type": "markdown",
      "metadata": {
        "id": "view-in-github",
        "colab_type": "text"
      },
      "source": [
        "<a href=\"https://colab.research.google.com/github/Rajayogi/python/blob/master/basic_maths.ipynb\" target=\"_parent\"><img src=\"https://colab.research.google.com/assets/colab-badge.svg\" alt=\"Open In Colab\"/></a>"
      ]
    },
    {
      "cell_type": "code",
      "metadata": {
        "id": "ui_TINZdIZsz",
        "colab_type": "code",
        "outputId": "12cba343-57f7-41cd-f3f1-2abe69d86f9f",
        "colab": {
          "base_uri": "https://localhost:8080/",
          "height": 101
        }
      },
      "source": [
        "def no_of_digits(n):\n",
        "  count = 0\n",
        "  if n==0:\n",
        "    count = 1\n",
        "  while(n > 0):\n",
        "    count += 1\n",
        "    n = int(n/10)\n",
        "    print(n,count)\n",
        "  print(\"no of digits = \",count)\n",
        "  \n",
        "n = 1000\n",
        "no_of_digits(n)\n",
        "    \n",
        "    "
      ],
      "execution_count": 8,
      "outputs": [
        {
          "output_type": "stream",
          "text": [
            "100 1\n",
            "10 2\n",
            "1 3\n",
            "0 4\n",
            "no of digits =  4\n"
          ],
          "name": "stdout"
        }
      ]
    },
    {
      "cell_type": "code",
      "metadata": {
        "id": "iJ_QfjnMktux",
        "colab_type": "code",
        "colab": {
          "base_uri": "https://localhost:8080/",
          "height": 50
        },
        "outputId": "6516d177-3513-4b8b-acca-15e6d10de5b2"
      },
      "source": [
        "def sum_of_n_numbers_formula(n):\n",
        "  sum1 = int(n*(n+1)/2)\n",
        "  print(\"sum of\",n,\"numbers is \", sum1)\n",
        "\n",
        "  \n",
        "def sum_of_n_numbers(n):\n",
        "  sum1 = 0\n",
        "  for i in range(1,n+1):\n",
        "    sum1 += i\n",
        "  print(\"sum of\",n,\"numbers is \", sum1)    \n",
        " \n",
        "n = 0\n",
        "sum_of_n_numbers_formula(n)\n",
        "sum_of_n_numbers(n)"
      ],
      "execution_count": 17,
      "outputs": [
        {
          "output_type": "stream",
          "text": [
            "sum of 0 numbers is  0\n",
            "sum of 0 numbers is  0\n"
          ],
          "name": "stdout"
        }
      ]
    },
    {
      "cell_type": "code",
      "metadata": {
        "id": "iAdNd9ommb0b",
        "colab_type": "code",
        "colab": {
          "base_uri": "https://localhost:8080/",
          "height": 84
        },
        "outputId": "2b362b69-dafd-40d6-8c4f-aee9a4d869d2"
      },
      "source": [
        "from collections import defaultdict\n",
        "def mean_median_mode(arr):\n",
        "  mean = sum(arr)/len(arr)\n",
        "  print(\"mean = \", mean)\n",
        "\n",
        "  arr = sorted(arr)\n",
        "  if (len(arr) % 2 == 0):\n",
        "    index = int(len(arr)/2)\n",
        "    print(index)\n",
        "    median = (arr[index] + arr[index + 1]) / 2\n",
        "  else:\n",
        "    median = arr[int((len(arr) + 1)/2)]\n",
        "  print(\"median = \", int(median))\n",
        "  \n",
        "  dict1 = defaultdict(int)\n",
        "  for i in arr:\n",
        "    dict1[i] += 1\n",
        "  mode = max(dict1, key=dict1.get)\n",
        "  print(\"mode = \", mode)\n",
        "\n",
        "arr = [2, 4, 5, 6, 8, 1, 1, 3, 3, 3, 3]\n",
        "mean_median_mode(arr)  "
      ],
      "execution_count": 38,
      "outputs": [
        {
          "output_type": "stream",
          "text": [
            "mean =  3.5454545454545454\n",
            "[1, 1, 2, 3, 3, 3, 3, 4, 5, 6, 8]\n",
            "median =  3\n",
            "mode =  3\n"
          ],
          "name": "stdout"
        }
      ]
    },
    {
      "cell_type": "code",
      "metadata": {
        "id": "gmgCJW_zRvZv",
        "colab_type": "code",
        "colab": {
          "base_uri": "https://localhost:8080/",
          "height": 50
        },
        "outputId": "7a80de9b-3396-4624-ccce-2cdce049c9e8"
      },
      "source": [
        "#Euclidian algorithm to find H.C.F. of two numbers\n",
        "def computeHCF(x, y):\n",
        "  while(y):\n",
        "    x, y = y, x % y\n",
        "  print(\"hcf is \",x )\n",
        "  \n",
        "#using loops  \n",
        "def computeHCFloop(x, y):\n",
        "    if x > y:\n",
        "        smaller = y\n",
        "    else:\n",
        "        smaller = x\n",
        "    for i in range(1, smaller+1):\n",
        "        if((x % i == 0) and (y % i == 0)):\n",
        "            hcf = i\n",
        "            \n",
        "    print(\"hcf is \",hcf )\n",
        "\n",
        "computeHCF(300, 400)\n",
        "computeHCFloop(10,5)"
      ],
      "execution_count": 4,
      "outputs": [
        {
          "output_type": "stream",
          "text": [
            "hcf is  100\n",
            "hcf is  5\n"
          ],
          "name": "stdout"
        }
      ]
    },
    {
      "cell_type": "code",
      "metadata": {
        "id": "R6ryQnVIUofP",
        "colab_type": "code",
        "colab": {
          "base_uri": "https://localhost:8080/",
          "height": 34
        },
        "outputId": "67918142-e112-462a-9a8e-7e6be281f1cd"
      },
      "source": [
        "def lcm(x, y):\n",
        "  greater= max(x, y)\n",
        "\n",
        "  while(True):\n",
        "    if((greater % x == 0) and (greater % y == 0)):\n",
        "      lcm = greater\n",
        "      break\n",
        "    greater += 1\n",
        "\n",
        "  print(\"lcm is \", lcm)\n",
        "  \n",
        "lcm(4,8)"
      ],
      "execution_count": 19,
      "outputs": [
        {
          "output_type": "stream",
          "text": [
            "lcm is  8\n"
          ],
          "name": "stdout"
        }
      ]
    },
    {
      "cell_type": "code",
      "metadata": {
        "id": "xSGPuz9QVpVk",
        "colab_type": "code",
        "colab": {
          "base_uri": "https://localhost:8080/",
          "height": 50
        },
        "outputId": "5f8ea337-af79-4d34-b521-960136216c33"
      },
      "source": [
        "#lcm using fromula\n",
        "#Number1 * Number2 = L.C.M. * G.C.D.\n",
        "\n",
        "def computeHCF(x, y):\n",
        "  while(y):\n",
        "    x, y = y, x % y\n",
        "  print(\"hcf is \",x)\n",
        "  return x\n",
        "\n",
        "def lcm(x,y):\n",
        "  lcm = (x * y)/(computeHCF(x,y))\n",
        "  print(\"lcm is \", int(lcm))\n",
        "  \n",
        "lcm(5,20)\n",
        "  "
      ],
      "execution_count": 15,
      "outputs": [
        {
          "output_type": "stream",
          "text": [
            "hcf is  5\n",
            "lcm is  20\n"
          ],
          "name": "stdout"
        }
      ]
    }
  ]
}