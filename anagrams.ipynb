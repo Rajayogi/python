{
  "nbformat": 4,
  "nbformat_minor": 0,
  "metadata": {
    "colab": {
      "name": "anagrams.ipynb",
      "version": "0.3.2",
      "provenance": [],
      "include_colab_link": true
    },
    "kernelspec": {
      "name": "python3",
      "display_name": "Python 3"
    }
  },
  "cells": [
    {
      "cell_type": "markdown",
      "metadata": {
        "id": "view-in-github",
        "colab_type": "text"
      },
      "source": [
        "<a href=\"https://colab.research.google.com/github/Rajayogi/python/blob/master/anagrams.ipynb\" target=\"_parent\"><img src=\"https://colab.research.google.com/assets/colab-badge.svg\" alt=\"Open In Colab\"/></a>"
      ]
    },
    {
      "cell_type": "code",
      "metadata": {
        "id": "YJlR-YJW3SWn",
        "colab_type": "code",
        "colab": {
          "base_uri": "https://localhost:8080/",
          "height": 218
        },
        "outputId": "47da2e18-88b2-4578-9683-249fa3d72256"
      },
      "source": [
        "from collections import defaultdict\n",
        "def anagram(str1,str2):\n",
        "  d1 = defaultdict(int)\n",
        "  d2 = defaultdict(int)\n",
        "  str1 = str1.replace(\" \", \"\").lower()\n",
        "  str2 = str2.replace(\" \", \"\").lower()\n",
        "  print(str1)\n",
        "  print(str2)\n",
        "  \n",
        "  print(\"method 1\")\n",
        "  if len(str1) != len(str2):\n",
        "    print(\"not anagrams\")\n",
        "    \n",
        "  if sorted(str1) == sorted(str2):\n",
        "    print(\"anagrams\")\n",
        "  else:\n",
        "    print(\"not anagrams\")\n",
        "    \n",
        "  print()  \n",
        "  print(\"method 2 using dict\")\n",
        "  dict1 = {}\n",
        "  for letter in str1:\n",
        "    if letter in dict1:\n",
        "      dict1[letter] += 1\n",
        "    else:\n",
        "      dict1[letter] = 1\n",
        "      \n",
        "   \n",
        "  for letter in str2:\n",
        "    if letter in dict1:\n",
        "      dict1[letter] -= 1\n",
        "    else:\n",
        "      dict1[letter] = 1\n",
        "      \n",
        "  for k in dict1:\n",
        "    if dict1[k] != 0:\n",
        "      print(\"not anagrams\")\n",
        "      break\n",
        "  print(\"anagrams\")\n",
        "      \n",
        "  print()  \n",
        "  print(\"method 3 using defaultdict\")\n",
        "  for i in str1:\n",
        "    d1[i] += 1\n",
        "  for j in str2:\n",
        "    d2[j] += 1\n",
        "  print(d1)\n",
        "  print(d2)\n",
        "  if d1 == d2:\n",
        "    print(\"%s is a anagram of %s\" % (str1,str2))\n",
        "  else:\n",
        "    print(\"not an anagaram\")\n",
        "    \n",
        "str1 = \"Funeral\" \n",
        "str2 = \"Real Fun\"\n",
        "anagram(str1,str2)"
      ],
      "execution_count": 25,
      "outputs": [
        {
          "output_type": "stream",
          "text": [
            "funeral\n",
            "realfun\n",
            "method 1\n",
            "anagrams\n",
            "\n",
            "method 2 using dict\n",
            "anagrams\n",
            "\n",
            "method 3 using defaultdict\n",
            "defaultdict(<class 'int'>, {'f': 1, 'u': 1, 'n': 1, 'e': 1, 'r': 1, 'a': 1, 'l': 1})\n",
            "defaultdict(<class 'int'>, {'r': 1, 'e': 1, 'a': 1, 'l': 1, 'f': 1, 'u': 1, 'n': 1})\n",
            "funeral is a anagram of realfun\n"
          ],
          "name": "stdout"
        }
      ]
    }
  ]
}